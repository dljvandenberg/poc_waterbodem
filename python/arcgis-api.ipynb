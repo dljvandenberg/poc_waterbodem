{
 "cells": [
  {
   "cell_type": "markdown",
   "metadata": {},
   "source": [
    "# Query atlas.brabant.nl"
   ]
  },
  {
   "cell_type": "markdown",
   "metadata": {},
   "source": [
    "See https://atlas.brabant.nl/arcgis/rest/services for list of available datasources.\n",
    "\n",
    "Arcgis Python API: https://developers.arcgis.com/python/"
   ]
  },
  {
   "cell_type": "markdown",
   "metadata": {},
   "source": [
    "## Libraries"
   ]
  },
  {
   "cell_type": "code",
   "execution_count": null,
   "metadata": {},
   "outputs": [],
   "source": [
    "import os\n",
    "import re\n",
    "from datetime import datetime\n",
    "import requests\n",
    "import pandas as pd\n",
    "import geopandas as gpd\n",
    "from arcgis.mapping import MapImageLayer\n",
    "from arcgis.features import SpatialDataFrame\n",
    "import matplotlib.pyplot as plt\n",
    "import mplleaflet\n",
    "\n",
    "%matplotlib inline\n",
    "\n",
    "pd.set_option('max_columns', 999)\n",
    "pd.set_option('max_rows', 999)"
   ]
  },
  {
   "cell_type": "markdown",
   "metadata": {},
   "source": [
    "## Functions"
   ]
  },
  {
   "cell_type": "code",
   "execution_count": null,
   "metadata": {},
   "outputs": [],
   "source": [
    "def get_mapserver_services(base_url = \"https://atlas.brabant.nl/ArcGIS/rest/services\"):\n",
    "    \"\"\"\n",
    "    Retrieves a list of available ArcGIS services of type 'MapServer' for a given base_url.\n",
    "    \n",
    "    Arguments:\n",
    "        base_url: ArcGIS base url (usually ending with 'services')\n",
    "    \n",
    "    Returns:\n",
    "        List of mapserver names\n",
    "    \"\"\"\n",
    "    \n",
    "    url = \"%s?f=pjson\" % base_url\n",
    "    \n",
    "    # Retrieve service list in json, extract services\n",
    "    r = requests.get(url)\n",
    "    results = r.json()\n",
    "    services_dict = results['services']\n",
    "    \n",
    "    # Select only services of type MapServer\n",
    "    mapserver_names = [service['name'] for service in services_dict if service['type'] == 'MapServer']\n",
    "    \n",
    "    return mapserver_names\n",
    "\n",
    "\n",
    "\n",
    "def get_all_layers(base_url = \"https://atlas.brabant.nl/ArcGIS/rest/services\"):\n",
    "    \"\"\"\n",
    "    Retrieves overview of available MapServer services under 'base_url' including their layers.\n",
    "    \n",
    "    Arguments:\n",
    "        base_url: ArcGIS base url (usually ending with 'services')\n",
    "    \n",
    "    Returns:\n",
    "        DataFrame with columns 'service_name', 'layer_number', 'layer_name'\n",
    "    \"\"\"\n",
    "    \n",
    "    available_services = get_mapserver_services(base_url)\n",
    "    \n",
    "    df_layer_info = pd.DataFrame(columns=['service_name', 'layer_number', 'layer_name'])\n",
    "    for service_name in available_services:\n",
    "        print(\"Checking service: %s\" % service_name)\n",
    "        \n",
    "        # Get layers and layer numbers        \n",
    "        mapserver_url = \"%s/%s/MapServer\" % (base_url, service_name)\n",
    "        layers = MapImageLayer(mapserver_url).layers\n",
    "\n",
    "        for layer_number in range(len(layers)):\n",
    "            try:\n",
    "                layer_name = layers[layer_number].properties['name']\n",
    "                df_layer_info = df_layer_info.append(\n",
    "                    {'service_name': service_name, 'layer_number': int(layer_number), 'layer_name': layer_name}, \n",
    "                    ignore_index=True\n",
    "                )\n",
    "            except:\n",
    "                print(\"Could not get layer info for layer %s of mapserver %s\" % (layer_number, mapserver_url))\n",
    "        \n",
    "    return df_layer_info\n",
    "\n",
    "\n",
    "\n",
    "def get_arcgis_data(base_url=\"https://atlas.brabant.nl/arcgis/rest/services\",\n",
    "                    service_name=\"stortplaatsen\",\n",
    "                    layer_numbers='All',\n",
    "                    output_dir=None,\n",
    "                    verbose=False):\n",
    "    \"\"\"\n",
    "    Retrieves data from ArcGIS MapServer, selects layer and converts to \n",
    "    spatial dataframe. Optionally saves results as shapefiles.\n",
    "    \n",
    "    Arguments:\n",
    "        base_url:      ArcGIS base url (usually ending with 'services')\n",
    "        service_name:  Name of arcgis service provided (usually visible when accessing base_url in browser)\n",
    "        layer_numbers: List with layer numbers to select. If 'All', all layers will be selected.\n",
    "        output_dir:    Optional directory for results. Output shapefiles stored in subdir with name of service_name.\n",
    "        verbose:       If True, show intermediate steps.\n",
    "        \n",
    "    Returns:\n",
    "        Dict with layer names as keys and spatial dataframes with results as values.\n",
    "    \"\"\"\n",
    "    \n",
    "    mapserver_url = \"%s/%s/MapServer\" % (base_url, service_name)\n",
    "\n",
    "    if verbose:\n",
    "        print(\"Querying url: %s\" % mapserver_url)\n",
    "    map_image_layer = MapImageLayer(mapserver_url)\n",
    "    \n",
    "    # Select layers\n",
    "    layers = map_image_layer.layers\n",
    "    if layer_numbers != 'All':\n",
    "        layers = [layers[layer_number] for layer_number in layer_numbers]\n",
    "    \n",
    "    if verbose:\n",
    "        print(\"Retrieving layers: \\n %s\" % layers)\n",
    "    \n",
    "    df_results = pd.DataFrame()\n",
    "    for layer in layers:\n",
    "        \n",
    "        status = ''\n",
    "        # Create spatial dataframe from layer\n",
    "        try:\n",
    "            sdf = pd.DataFrame.spatial.from_layer(layer)\n",
    "        except:\n",
    "            print(\"Could not convert layer %s to spatial dataframe. Skipping..\" % layer.properties['name'])\n",
    "            status = 'conversion error'\n",
    "        \n",
    "        # Save spatial dataframe to shapefile\n",
    "        layer_name = layer.properties['name']\n",
    "        if output_dir is not None and status != 'conversion error':\n",
    "            output_file_without_extension = \"%s/%s/%s\" % (output_dir, service_name, layer_name)\n",
    "            output_file = \"%s.shp\" % output_file_without_extension\n",
    "            print(\"Saving layer to shapefile: %s\" % output_file)\n",
    "            \n",
    "            try:\n",
    "                sdf.spatial.to_featureclass(location=output_file)\n",
    "                status = 'saved'\n",
    "            except:\n",
    "                print(\"    Layer could not be saved. (Not convertible to shapefile?). Skipping..\")\n",
    "                status = 'saving error'\n",
    "                # Remove files that failed to save correctly\n",
    "                os.remove(\"%s.dbf\" % output_file_without_extension)\n",
    "                os.remove(\"%s.shp\" % output_file_without_extension)\n",
    "                os.remove(\"%s.shx\" % output_file_without_extension)\n",
    "        \n",
    "        # Append spatial dataframe to dictionary\n",
    "        df_results = df_results.append(\n",
    "            {'service_name': service_name, 'layer_name': layer_name, 'status': status},\n",
    "            ignore_index=True)\n",
    "    \n",
    "    return df_results\n",
    "\n",
    "\n",
    "\n",
    "def load_shapefile(shapefile, \n",
    "                      crs='epsg:4326', \n",
    "                      bounding_box={'xmin': 5.00, 'ymin': 51.3, 'xmax': 6.05, 'ymax': 51.85}):\n",
    "    \"\"\"\n",
    "    Reads shapefile, converts to desired coordinate system and selects entries within bounding box\n",
    "    \n",
    "    Arguments:\n",
    "        shapefile:     Path to input shapefile\n",
    "        crs:           Coordinate reference system (default: 'epsg:4326', ie lat/lon).\n",
    "                       Set to None to keep original crs.\n",
    "        bounding_box:  Dict with bounding box area (default: {'xmin': 5.00, 'ymin': 51.3, 'xmax': 6.05, 'ymax': 51.85}).\n",
    "                       Set to None to keep all entries.\n",
    "    \n",
    "    Returns:\n",
    "        Geopandas GeoDataFrame\n",
    "    \"\"\"\n",
    "\n",
    "    # Read shapefile\n",
    "    gdf = gpd.read_file(shapefile)\n",
    "\n",
    "    if crs != None:\n",
    "        # Convert to desired coordinate reference system\n",
    "        gdf = gdf.to_crs({'init': crs})\n",
    "\n",
    "    if bounding_box != None:\n",
    "        # Select entries within bounding box\n",
    "        xmin, ymin, xmax, ymax = bounding_box['xmin'], bounding_box['ymin'], bounding_box['xmax'], bounding_box['ymax']\n",
    "        gdf = gdf.cx[xmin:xmax, ymin:ymax]\n",
    "\n",
    "    return gdf\n",
    "\n",
    "\n",
    "\n",
    "def plot_leaflet(gdf, output_file=None):\n",
    "    \"\"\"\n",
    "    Plot geodataframe on top of a leaflet background\n",
    "    \n",
    "    Arguments:\n",
    "        gdf:          Geopandas GeoDataFrame\n",
    "        output_file:  Path to output html file. If None, output is not saved to file.\n",
    "    \n",
    "    Returns:\n",
    "        Leaflet plot\n",
    "    \"\"\"\n",
    "    \n",
    "    fig, ax = plt.subplots(figsize=(16,16), subplot_kw={'aspect':'equal'})\n",
    "    plot = gdf.plot(color='red', edgecolor='red', alpha=1, ax=ax)\n",
    "    leaflet = mplleaflet.display(fig=plot.figure)\n",
    "    \n",
    "    if output_file != None:\n",
    "        # Export to file\n",
    "        mplleaflet.show(fig=plot.figure, path=output_file)\n",
    "    \n",
    "    return leaflet\n",
    "\n",
    "\n",
    "\n",
    "def convert_shapefiles_to_leaflet(dir = '../results'):\n",
    "    \"\"\"\n",
    "    Searches for all .shp files in subdirs of dir and \n",
    "    saves a leaflet plot to the same location with .html extension.\n",
    "    \n",
    "    Arguments:\n",
    "        dir: Directory name to search in\n",
    "        \n",
    "    Returns:\n",
    "        List with paths of output .html files\n",
    "    \"\"\"\n",
    "    \n",
    "    # Find all shapefiles in subdirs of dir\n",
    "    shapefiles_list = []\n",
    "    for dirpath, dirnames, filenames in os.walk(dir):\n",
    "        for filename in [f for f in filenames if f.endswith(\".shp\")]:\n",
    "            shapefiles_list.append(os.path.join(dirpath, filename))\n",
    "\n",
    "    output_map_files = []\n",
    "    for shapefile in shapefiles_list:\n",
    "        # Derive output filename\n",
    "        output_map_file = re.sub('.shp', '.html', shapefile)\n",
    "        output_map_files.append(output_map_file)\n",
    "\n",
    "        # Load shapefile\n",
    "        gdf = load_shapefile(shapefile=shapefile)\n",
    "\n",
    "        # Plot and export\n",
    "        plot_leaflet(gdf, output_file=output_map_file)\n",
    "    \n",
    "    return output_map_files"
   ]
  },
  {
   "cell_type": "markdown",
   "metadata": {
    "heading_collapsed": true
   },
   "source": [
    "## Get list of available ArcGIS data services"
   ]
  },
  {
   "cell_type": "code",
   "execution_count": null,
   "metadata": {
    "hidden": true
   },
   "outputs": [],
   "source": [
    "available_services = get_mapserver_services(base_url='https://atlas.brabant.nl/arcgis/rest/services')\n",
    "available_services"
   ]
  },
  {
   "cell_type": "code",
   "execution_count": null,
   "metadata": {
    "hidden": true,
    "scrolled": false
   },
   "outputs": [],
   "source": [
    "# # This can take a minute or two\n",
    "# df_layer_info = get_all_layers(base_url='https://atlas.brabant.nl/arcgis/rest/services')\n",
    "# df_layer_info.to_csv('../results/available_layers.csv')\n",
    "# df_layer_info"
   ]
  },
  {
   "cell_type": "markdown",
   "metadata": {},
   "source": [
    "## Retrieve data and store as shapefiles"
   ]
  },
  {
   "cell_type": "markdown",
   "metadata": {},
   "source": [
    "### For single service name"
   ]
  },
  {
   "cell_type": "code",
   "execution_count": null,
   "metadata": {},
   "outputs": [],
   "source": [
    "# arcgis_results = get_arcgis_data(base_url='https://atlas.brabant.nl/arcgis/rest/services',\n",
    "#                                  service_name='aardkundige_waarden_v2',\n",
    "#                                  layer_numbers='All',\n",
    "#                                  output_dir='../results',\n",
    "#                                  verbose=True)"
   ]
  },
  {
   "cell_type": "markdown",
   "metadata": {},
   "source": [
    "### For multiple services and/or layers"
   ]
  },
  {
   "cell_type": "code",
   "execution_count": null,
   "metadata": {
    "scrolled": false
   },
   "outputs": [],
   "source": [
    "# Choose services and layers to extract\n",
    "relevant_services_layers = {'aardkundige_waarden_v2': [8,10,11,13],\n",
    "                            'bedijkte_maas': [7,8,9,19,20,23],\n",
    "                            'bodemwijzer_totaal_v2': [3,6,7,8,9,27,28,29],\n",
    "                            'EVZ_viewer': [0,1],\n",
    "                            'gemeentegrenzen': [0],\n",
    "                            'pgr_m01_milieu': [4,9],\n",
    "                            'stortplaatsen': [0,1,2,3,4,5,6],\n",
    "                            # potentially relevant\n",
    "                            'verkeersintensiteiten': [0,1,2],\n",
    "                            # potentially relevant later\n",
    "                            'luchtfoto': [0],\n",
    "                            'bodemkaarten': [0]\n",
    "                           }\n",
    "\n",
    "relevant_services_layers = {'bedijkte_maas': [44]\n",
    "                           }\n",
    "\n",
    "\n",
    "# Loop over relevant services and layers. Store results as shapefiles in results dir.\n",
    "df_results_all = pd.DataFrame()\n",
    "for service_name, layer_numbers in relevant_services_layers.items():\n",
    "    df_results = get_arcgis_data(base_url='https://atlas.brabant.nl/arcgis/rest/services',\n",
    "                                 service_name=service_name,\n",
    "                                 layer_numbers=layer_numbers,\n",
    "                                 output_dir='../results',\n",
    "                                 verbose=True)\n",
    "    df_results_all = df_results_all.append(df_results)\n",
    "    "
   ]
  },
  {
   "cell_type": "code",
   "execution_count": null,
   "metadata": {},
   "outputs": [],
   "source": [
    "df_results_all"
   ]
  },
  {
   "cell_type": "code",
   "execution_count": null,
   "metadata": {},
   "outputs": [],
   "source": [
    "df_results_all.to_csv('../results/retrieved_layers%s.csv' % datetime.now().strftime(\"%Y%m%d_%H%M\"))"
   ]
  },
  {
   "cell_type": "markdown",
   "metadata": {},
   "source": [
    "## Visualize using geopandas/leaflet"
   ]
  },
  {
   "cell_type": "code",
   "execution_count": null,
   "metadata": {
    "scrolled": true
   },
   "outputs": [],
   "source": [
    "gdf = load_shapefile(shapefile='../results/stortplaatsen/4 Voormalige stortplaatsen vlak.shp')\n",
    "gdf.head(3)"
   ]
  },
  {
   "cell_type": "code",
   "execution_count": null,
   "metadata": {},
   "outputs": [],
   "source": [
    "plot_leaflet(gdf, output_file='../results/map.html')"
   ]
  },
  {
   "cell_type": "markdown",
   "metadata": {},
   "source": [
    "## Convert all shapefiles to leaflet html"
   ]
  },
  {
   "cell_type": "code",
   "execution_count": null,
   "metadata": {},
   "outputs": [],
   "source": [
    "convert_shapefiles_to_leaflet(dir = '../results')"
   ]
  },
  {
   "cell_type": "code",
   "execution_count": null,
   "metadata": {},
   "outputs": [],
   "source": [
    "convert_shapefiles_to_leaflet(dir = '../data/wegen_selected/')"
   ]
  }
 ],
 "metadata": {
  "hide_input": false,
  "kernelspec": {
   "display_name": "Python 3",
   "language": "python",
   "name": "python3"
  },
  "language_info": {
   "codemirror_mode": {
    "name": "ipython",
    "version": 3
   },
   "file_extension": ".py",
   "mimetype": "text/x-python",
   "name": "python",
   "nbconvert_exporter": "python",
   "pygments_lexer": "ipython3",
   "version": "3.7.6"
  },
  "varInspector": {
   "cols": {
    "lenName": 16,
    "lenType": 16,
    "lenVar": 40
   },
   "kernels_config": {
    "python": {
     "delete_cmd_postfix": "",
     "delete_cmd_prefix": "del ",
     "library": "var_list.py",
     "varRefreshCmd": "print(var_dic_list())"
    },
    "r": {
     "delete_cmd_postfix": ") ",
     "delete_cmd_prefix": "rm(",
     "library": "var_list.r",
     "varRefreshCmd": "cat(var_dic_list()) "
    }
   },
   "types_to_exclude": [
    "module",
    "function",
    "builtin_function_or_method",
    "instance",
    "_Feature"
   ],
   "window_display": false
  }
 },
 "nbformat": 4,
 "nbformat_minor": 4
}
