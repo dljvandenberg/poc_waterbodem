{
 "cells": [
  {
   "cell_type": "markdown",
   "metadata": {},
   "source": [
    "# Nationaal Wegen Bestand"
   ]
  },
  {
   "cell_type": "code",
   "execution_count": null,
   "metadata": {
    "ExecuteTime": {
     "end_time": "2020-02-07T15:50:49.429783Z",
     "start_time": "2020-02-07T15:50:48.418836Z"
    }
   },
   "outputs": [],
   "source": [
    "import geopandas as gpd\n",
    "import pandas as pd\n",
    "import matplotlib.pyplot as plt\n",
    "import mplleaflet\n",
    "\n",
    "%matplotlib inline\n",
    "\n",
    "pd.set_option('max_columns', 999)\n",
    "pd.set_option('max_rows', 999)"
   ]
  },
  {
   "cell_type": "markdown",
   "metadata": {},
   "source": [
    "## NWB Light"
   ]
  },
  {
   "cell_type": "markdown",
   "metadata": {},
   "source": [
    "### Load data"
   ]
  },
  {
   "cell_type": "code",
   "execution_count": null,
   "metadata": {
    "ExecuteTime": {
     "end_time": "2020-02-07T11:21:50.098787Z",
     "start_time": "2020-02-07T11:21:49.837817Z"
    }
   },
   "outputs": [],
   "source": [
    "shapefile_nwb = '../data/NWB-Light/nwb-light.shp'\n",
    "\n",
    "df_nwb_light = gpd.read_file(shapefile_nwb)\n",
    "df_nwb_light.head()"
   ]
  },
  {
   "cell_type": "markdown",
   "metadata": {},
   "source": [
    "### Explore"
   ]
  },
  {
   "cell_type": "code",
   "execution_count": null,
   "metadata": {
    "ExecuteTime": {
     "end_time": "2020-02-07T11:21:51.627802Z",
     "start_time": "2020-02-07T11:21:50.102341Z"
    }
   },
   "outputs": [],
   "source": [
    "# Leaflet plot\n",
    "fig, ax = plt.subplots(figsize=(10,10), subplot_kw={'aspect':'equal'})\n",
    "mplleaflet.show(fig=df_nwb_light.plot(color='red', ax=ax).figure, crs={'init': 'epsg:28992'})"
   ]
  },
  {
   "cell_type": "markdown",
   "metadata": {},
   "source": [
    "## Wegen NL Totaal - Wegvakken\n",
    "\n",
    "Source: https://www.rijkswaterstaat.nl/apps/geoservices/geodata/dmc/nwb-wegen/geogegevens/shapefile/Nederland_totaal/"
   ]
  },
  {
   "cell_type": "code",
   "execution_count": null,
   "metadata": {
    "ExecuteTime": {
     "end_time": "2020-02-07T13:47:00.897851Z",
     "start_time": "2020-02-07T13:47:00.894367Z"
    }
   },
   "outputs": [],
   "source": [
    "shapefile_input = '../data/Wegen_NL_totaal/Wegvakken/Wegvakken.shp'\n",
    "shapefile_selection = '../data/wegen/nwb_aa_maas.shp'"
   ]
  },
  {
   "cell_type": "code",
   "execution_count": null,
   "metadata": {
    "ExecuteTime": {
     "end_time": "2020-02-07T13:43:35.294659Z",
     "start_time": "2020-02-07T13:40:15.754122Z"
    }
   },
   "outputs": [],
   "source": [
    "# # Extract rectangle from NWB shapefile and save to disk\n",
    "\n",
    "# # Read and convert to lat/lon crs\n",
    "# df_wegvakken = gpd.read_file(shapefile_input)\n",
    "# df_wegvakken = df_wegvakken.to_crs({'init': 'epsg:4326'})\n",
    "\n",
    "# # Subset on Aa & Maas region\n",
    "# df_wegvakken = df_wegvakken.cx[5.00:6.05, 51.3:51.85]\n",
    "\n",
    "# Select only relevant columns\n",
    "# selected_columns = ['WVK_ID', 'WEGBEHSRT', 'WEGNUMMER', 'STT_NAAM', 'GME_NAAM', 'WGTYPE_OMS', 'geometry']\n",
    "# df_wegvakken = df_wegvakken[selected_columns]\n",
    "\n",
    "# # Save to file\n",
    "# df_wegvakken.to_file(shapefile_selection)"
   ]
  },
  {
   "cell_type": "code",
   "execution_count": null,
   "metadata": {
    "ExecuteTime": {
     "end_time": "2020-02-07T13:47:28.707511Z",
     "start_time": "2020-02-07T13:47:13.909262Z"
    }
   },
   "outputs": [],
   "source": [
    "df_wegen = gpd.read_file(shapefile_selection)"
   ]
  },
  {
   "cell_type": "markdown",
   "metadata": {},
   "source": [
    "### Visualize"
   ]
  },
  {
   "cell_type": "code",
   "execution_count": null,
   "metadata": {
    "ExecuteTime": {
     "end_time": "2020-02-07T13:48:15.219653Z",
     "start_time": "2020-02-07T13:47:48.472222Z"
    }
   },
   "outputs": [],
   "source": [
    "fig, ax = plt.subplots(figsize=(16,16), subplot_kw={'aspect':'equal'})\n",
    "\n",
    "wegen_plot = df_wegen.plot(column='WEGBEHSRT', ax=ax)\n",
    "mplleaflet.show(fig=wegen_plot.figure)"
   ]
  },
  {
   "cell_type": "markdown",
   "metadata": {},
   "source": [
    "### Explore"
   ]
  },
  {
   "cell_type": "code",
   "execution_count": null,
   "metadata": {
    "ExecuteTime": {
     "end_time": "2020-02-07T13:48:36.852906Z",
     "start_time": "2020-02-07T13:48:36.817958Z"
    }
   },
   "outputs": [],
   "source": [
    "df_wegen.head()"
   ]
  },
  {
   "cell_type": "code",
   "execution_count": null,
   "metadata": {
    "ExecuteTime": {
     "end_time": "2020-02-07T13:48:36.867470Z",
     "start_time": "2020-02-07T13:48:36.855418Z"
    }
   },
   "outputs": [],
   "source": [
    "df_wegen['WEGNUMMER'].value_counts()"
   ]
  },
  {
   "cell_type": "code",
   "execution_count": null,
   "metadata": {
    "ExecuteTime": {
     "end_time": "2020-02-07T13:48:36.883594Z",
     "start_time": "2020-02-07T13:48:36.869212Z"
    }
   },
   "outputs": [],
   "source": [
    "df_wegen['WEGBEHSRT'].value_counts()"
   ]
  },
  {
   "cell_type": "code",
   "execution_count": null,
   "metadata": {
    "ExecuteTime": {
     "end_time": "2020-02-07T13:48:36.917206Z",
     "start_time": "2020-02-07T13:48:36.885617Z"
    }
   },
   "outputs": [],
   "source": [
    "df_wegen[['WEGNUMMER', 'WEGBEHSRT']] \\\n",
    "    .drop_duplicates() \\\n",
    "    .sort_values('WEGNUMMER')"
   ]
  }
 ],
 "metadata": {
  "hide_input": false,
  "kernelspec": {
   "display_name": "Python 3",
   "language": "python",
   "name": "python3"
  },
  "language_info": {
   "codemirror_mode": {
    "name": "ipython",
    "version": 3
   },
   "file_extension": ".py",
   "mimetype": "text/x-python",
   "name": "python",
   "nbconvert_exporter": "python",
   "pygments_lexer": "ipython3",
   "version": "3.7.6"
  },
  "varInspector": {
   "cols": {
    "lenName": 16,
    "lenType": 16,
    "lenVar": 40
   },
   "kernels_config": {
    "python": {
     "delete_cmd_postfix": "",
     "delete_cmd_prefix": "del ",
     "library": "var_list.py",
     "varRefreshCmd": "print(var_dic_list())"
    },
    "r": {
     "delete_cmd_postfix": ") ",
     "delete_cmd_prefix": "rm(",
     "library": "var_list.r",
     "varRefreshCmd": "cat(var_dic_list()) "
    }
   },
   "types_to_exclude": [
    "module",
    "function",
    "builtin_function_or_method",
    "instance",
    "_Feature"
   ],
   "window_display": false
  }
 },
 "nbformat": 4,
 "nbformat_minor": 4
}
