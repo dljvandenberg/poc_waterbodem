{
 "cells": [
  {
   "cell_type": "markdown",
   "metadata": {},
   "source": [
    "# Query atlas.brabant.nl"
   ]
  },
  {
   "cell_type": "markdown",
   "metadata": {},
   "source": [
    "See https://atlas.brabant.nl/arcgis/rest/services for list of available datasources.\n",
    "\n",
    "Arcgis Python API: https://developers.arcgis.com/python/"
   ]
  },
  {
   "cell_type": "markdown",
   "metadata": {
    "heading_collapsed": true
   },
   "source": [
    "## Libraries"
   ]
  },
  {
   "cell_type": "code",
   "execution_count": null,
   "metadata": {
    "hidden": true
   },
   "outputs": [],
   "source": [
    "import requests\n",
    "import pandas as pd\n",
    "from arcgis.mapping import MapImageLayer\n",
    "from arcgis.features import SpatialDataFrame\n",
    "import geopandas as gpd"
   ]
  },
  {
   "cell_type": "markdown",
   "metadata": {},
   "source": [
    "## Retrieve data and store as shapefiles"
   ]
  },
  {
   "cell_type": "code",
   "execution_count": null,
   "metadata": {},
   "outputs": [],
   "source": [
    "def get_arcgis_data(base_url=\"https://atlas.brabant.nl/arcgis/rest/services\",\n",
    "                    service_name=\"stortplaatsen\",\n",
    "                    layer_numbers=None,\n",
    "                    output_dir=None,\n",
    "                    verbose=False):\n",
    "    \"\"\"\n",
    "    Retrieves data from ArcGIS MapServer, selects layer and converts to \n",
    "    spatial dataframe. Optionally saves results as shapefiles.\n",
    "    \n",
    "    Arguments:\n",
    "        base_url:      ArcGIS base url (usually ending with 'services')\n",
    "        service_name:  Name of arcgis service provided (usually visible when accessing base_url in browser)\n",
    "        layer_numbers: List with layer numbers to select. If None, all layers will be selected.\n",
    "        output_dir:    Optional directory for results. Output shapefiles stored in subdir with name of service_name.\n",
    "        verbose:       If True, show intermediate steps.\n",
    "        \n",
    "    Returns:\n",
    "        Dict with layer names as keys and spatial dataframes with results as values.\n",
    "    \"\"\"\n",
    "    \n",
    "    mapserver_url = \"%s/%s/MapServer\" % (base_url, service_name)\n",
    "\n",
    "    if verbose:\n",
    "        print(\"Querying url: %s\" % mapserver_url)\n",
    "    map_image_layer = MapImageLayer(mapserver_url)\n",
    "    \n",
    "    if verbose:\n",
    "        print(\"Available layers:\")\n",
    "        for layer in map_image_layer.layers:\n",
    "            print(\"    %s\" % layer.properties['name'])\n",
    "    \n",
    "    \n",
    "    if layer_numbers == None:\n",
    "        # TODO\n",
    "        layer_numbers = []\n",
    "    \n",
    "    \n",
    "    results = {}\n",
    "    for layer_number in layer_numbers:\n",
    "        \n",
    "        # Create spatial dataframe from layer\n",
    "        layer = map_image_layer.layers[layer_number]\n",
    "        sdf = pd.DataFrame.spatial.from_layer(layer)\n",
    "        \n",
    "        # Save spatial dataframe to shapefile\n",
    "        layer_name = layer.properties['name']\n",
    "        if output_dir is not None:\n",
    "            output_file = \"%s/%s/%s.shp\" % (output_dir, service_name, layer_name)\n",
    "            if verbose:\n",
    "                print(\"Saving layer %s to shapefile: %s\" % (layer_number, output_file))\n",
    "            sdf.spatial.to_featureclass(location=output_file)\n",
    "        \n",
    "        # Append spatial dataframe to dictionar\n",
    "        results.update({layer_name: sdf})\n",
    "    \n",
    "    return results"
   ]
  },
  {
   "cell_type": "code",
   "execution_count": null,
   "metadata": {},
   "outputs": [],
   "source": [
    "arcgis_results = get_arcgis_data(base_url='https://atlas.brabant.nl/arcgis/rest/services',\n",
    "                                 service_name='stortplaatsen',\n",
    "                                 layer_numbers=[3,4],\n",
    "                                 output_dir='../results',\n",
    "                                 verbose=True)"
   ]
  },
  {
   "cell_type": "markdown",
   "metadata": {
    "heading_collapsed": true
   },
   "source": [
    "## Visualize using geopandas"
   ]
  },
  {
   "cell_type": "code",
   "execution_count": null,
   "metadata": {
    "hidden": true
   },
   "outputs": [],
   "source": [
    "gdf_stortplaatsen = gpd.read_file('../results/stortplaatsen/4 Voormalige stortplaatsen vlak.shp')\n",
    "gdf_stortplaatsen.head(3)"
   ]
  },
  {
   "cell_type": "code",
   "execution_count": null,
   "metadata": {
    "hidden": true
   },
   "outputs": [],
   "source": [
    "gdf_stortplaatsen.plot()"
   ]
  },
  {
   "cell_type": "markdown",
   "metadata": {},
   "source": [
    "# CURRENT: get_services"
   ]
  },
  {
   "cell_type": "code",
   "execution_count": null,
   "metadata": {},
   "outputs": [],
   "source": [
    "def get_arcgis_services(base_url = \"https://atlas.brabant.nl/ArcGIS/rest/services\"):\n",
    "    \n",
    "    url = \"%s?f=pjson\" % base_url\n",
    "    \n",
    "    # Retrieve service list in json, convert to dataframe\n",
    "    r = requests.get(url)\n",
    "    results = r.json()\n",
    "    df_services = pd.DataFrame(results['services'])\n",
    "    \n",
    "    return df_services"
   ]
  },
  {
   "cell_type": "code",
   "execution_count": null,
   "metadata": {},
   "outputs": [],
   "source": [
    "df_services = get_arcgis_services()\n",
    "df_services.head()"
   ]
  }
 ],
 "metadata": {
  "hide_input": false,
  "kernelspec": {
   "display_name": "Python 3",
   "language": "python",
   "name": "python3"
  },
  "language_info": {
   "codemirror_mode": {
    "name": "ipython",
    "version": 3
   },
   "file_extension": ".py",
   "mimetype": "text/x-python",
   "name": "python",
   "nbconvert_exporter": "python",
   "pygments_lexer": "ipython3",
   "version": "3.7.6"
  },
  "varInspector": {
   "cols": {
    "lenName": 16,
    "lenType": 16,
    "lenVar": 40
   },
   "kernels_config": {
    "python": {
     "delete_cmd_postfix": "",
     "delete_cmd_prefix": "del ",
     "library": "var_list.py",
     "varRefreshCmd": "print(var_dic_list())"
    },
    "r": {
     "delete_cmd_postfix": ") ",
     "delete_cmd_prefix": "rm(",
     "library": "var_list.r",
     "varRefreshCmd": "cat(var_dic_list()) "
    }
   },
   "types_to_exclude": [
    "module",
    "function",
    "builtin_function_or_method",
    "instance",
    "_Feature"
   ],
   "window_display": false
  }
 },
 "nbformat": 4,
 "nbformat_minor": 4
}
